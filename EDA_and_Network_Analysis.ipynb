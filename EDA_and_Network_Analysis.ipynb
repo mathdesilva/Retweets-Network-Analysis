{
  "nbformat": 4,
  "nbformat_minor": 0,
  "metadata": {
    "colab": {
      "name": "EDA and Network Analisys",
      "provenance": [],
      "collapsed_sections": [
        "BchufGtrl8bn"
      ]
    },
    "kernelspec": {
      "name": "python3",
      "display_name": "Python 3"
    },
    "language_info": {
      "name": "python"
    }
  },
  "cells": [
    {
      "cell_type": "markdown",
      "metadata": {
        "id": "BchufGtrl8bn"
      },
      "source": [
        "# EDA"
      ]
    },
    {
      "cell_type": "markdown",
      "metadata": {
        "id": "-NpL9NcbDI4g"
      },
      "source": [
        "## Dependence"
      ]
    },
    {
      "cell_type": "code",
      "metadata": {
        "id": "jW2CeyI0DMbQ"
      },
      "source": [
        "import networkx as nx\n",
        "import pandas as pd\n",
        "import numpy as np\n",
        "from pprint import pprint\n",
        "import matplotlib.pyplot as plt"
      ],
      "execution_count": null,
      "outputs": []
    },
    {
      "cell_type": "code",
      "metadata": {
        "colab": {
          "base_uri": "https://localhost:8080/"
        },
        "id": "1ecl25J0yObl",
        "outputId": "87ae0063-c4a1-4c57-9447-be08c1e8791d"
      },
      "source": [
        "from google.colab import drive\n",
        "drive.mount('/content/drive')"
      ],
      "execution_count": null,
      "outputs": [
        {
          "output_type": "stream",
          "name": "stdout",
          "text": [
            "Mounted at /content/drive\n"
          ]
        }
      ]
    },
    {
      "cell_type": "code",
      "metadata": {
        "colab": {
          "base_uri": "https://localhost:8080/"
        },
        "id": "b6xV3UQYZ-hR",
        "outputId": "a6ed4572-6eaa-43e6-925a-7eeec58388e1"
      },
      "source": [
        "!wget https://github.com/matheusmas132/Retweets-Network-Analysis/raw/main/data/argentinian.xlsx\n",
        "!wget https://github.com/matheusmas132/Retweets-Network-Analysis/raw/main/data/brazilian.xlsx"
      ],
      "execution_count": null,
      "outputs": [
        {
          "output_type": "stream",
          "name": "stdout",
          "text": [
            "--2021-09-15 03:03:37--  https://github.com/matheusmas132/Retweets-Network-Analysis/raw/main/data/argentinian.xlsx\n",
            "Resolving github.com (github.com)... 140.82.113.3\n",
            "Connecting to github.com (github.com)|140.82.113.3|:443... connected.\n",
            "HTTP request sent, awaiting response... 302 Found\n",
            "Location: https://raw.githubusercontent.com/matheusmas132/Retweets-Network-Analysis/main/data/argentinian.xlsx [following]\n",
            "--2021-09-15 03:03:37--  https://raw.githubusercontent.com/matheusmas132/Retweets-Network-Analysis/main/data/argentinian.xlsx\n",
            "Resolving raw.githubusercontent.com (raw.githubusercontent.com)... 185.199.111.133, 185.199.108.133, 185.199.109.133, ...\n",
            "Connecting to raw.githubusercontent.com (raw.githubusercontent.com)|185.199.111.133|:443... connected.\n",
            "HTTP request sent, awaiting response... 200 OK\n",
            "Length: 3162978 (3.0M) [application/octet-stream]\n",
            "Saving to: ‘argentinian.xlsx’\n",
            "\n",
            "argentinian.xlsx    100%[===================>]   3.02M  --.-KB/s    in 0.07s   \n",
            "\n",
            "2021-09-15 03:03:38 (43.8 MB/s) - ‘argentinian.xlsx’ saved [3162978/3162978]\n",
            "\n",
            "--2021-09-15 03:03:38--  https://github.com/matheusmas132/Retweets-Network-Analysis/raw/main/data/brazilian.xlsx\n",
            "Resolving github.com (github.com)... 140.82.114.3\n",
            "Connecting to github.com (github.com)|140.82.114.3|:443... connected.\n",
            "HTTP request sent, awaiting response... 302 Found\n",
            "Location: https://raw.githubusercontent.com/matheusmas132/Retweets-Network-Analysis/main/data/brazilian.xlsx [following]\n",
            "--2021-09-15 03:03:38--  https://raw.githubusercontent.com/matheusmas132/Retweets-Network-Analysis/main/data/brazilian.xlsx\n",
            "Resolving raw.githubusercontent.com (raw.githubusercontent.com)... 185.199.109.133, 185.199.108.133, 185.199.111.133, ...\n",
            "Connecting to raw.githubusercontent.com (raw.githubusercontent.com)|185.199.109.133|:443... connected.\n",
            "HTTP request sent, awaiting response... 200 OK\n",
            "Length: 2961794 (2.8M) [application/octet-stream]\n",
            "Saving to: ‘brazilian.xlsx’\n",
            "\n",
            "brazilian.xlsx      100%[===================>]   2.82M  --.-KB/s    in 0.07s   \n",
            "\n",
            "2021-09-15 03:03:38 (41.9 MB/s) - ‘brazilian.xlsx’ saved [2961794/2961794]\n",
            "\n"
          ]
        }
      ]
    },
    {
      "cell_type": "code",
      "metadata": {
        "id": "bL7N1VWVmhWu"
      },
      "source": [
        "brazilian_db = pd.read_excel(\"brazilian.xlsx\", converters={'id_str':str,'user_id_str':str,'retweeted_id_str':str, 'retweeted_user_id_str':str})\n",
        "argentinian_db = pd.read_excel(\"argentinian.xlsx\", converters={'id_str':str,'user_id_str':str,'retweeted_id_str':str, 'retweeted_user_id_str':str})\n",
        "\n",
        "brazilian_db.info()\n",
        "'argentinian_db.info()'"
      ],
      "execution_count": null,
      "outputs": []
    },
    {
      "cell_type": "code",
      "metadata": {
        "colab": {
          "base_uri": "https://localhost:8080/"
        },
        "id": "xzOi90nxVSgq",
        "outputId": "cc03eee6-ccea-4066-89ff-da08d1add055"
      },
      "source": [
        "brazilian_db.columns"
      ],
      "execution_count": null,
      "outputs": [
        {
          "output_type": "execute_result",
          "data": {
            "text/plain": [
              "Index(['created_at', 'id_str', 'text', 'truncated', 'is_quote_status',\n",
              "       'retweet_count', 'favorite_count', 'user_id_str', 'user_name',\n",
              "       'user_screen_name', 'user_location', 'is_verified_user',\n",
              "       'user_followers_count', 'user_friends_count', 'retweeted_created_at',\n",
              "       'retweeted_id_str', 'retweeted_text', 'retweeted_truncated',\n",
              "       'retweeted_user_id_str', 'retweeted_user_name',\n",
              "       'retweeted_user_screen_name', 'retweeted_user_location',\n",
              "       'retweeted_is_verified_user', 'retweeted_user_followers_count',\n",
              "       'retweeted_user_friends_count', 'retweeted_is_quote_status',\n",
              "       'retweeted_retweet_count', 'retweeted_favorite_count'],\n",
              "      dtype='object')"
            ]
          },
          "metadata": {},
          "execution_count": 46
        }
      ]
    },
    {
      "cell_type": "markdown",
      "metadata": {
        "id": "14BilpVqOuAk"
      },
      "source": [
        "## Data cleaning"
      ]
    },
    {
      "cell_type": "code",
      "metadata": {
        "colab": {
          "base_uri": "https://localhost:8080/"
        },
        "id": "I4Cs_3-HRQpi",
        "outputId": "0c314e7f-24b2-4cdf-de71-49942e2303df"
      },
      "source": [
        "brazilian_db['created_at'].str.contains('Sun Sep 05', regex=False).value_counts(dropna = False)"
      ],
      "execution_count": null,
      "outputs": [
        {
          "output_type": "execute_result",
          "data": {
            "text/plain": [
              "True     17659\n",
              "False       28\n",
              "Name: created_at, dtype: int64"
            ]
          },
          "metadata": {},
          "execution_count": 49
        }
      ]
    },
    {
      "cell_type": "code",
      "metadata": {
        "id": "xKfKy2gpIiMY"
      },
      "source": [
        "brazilian_db = brazilian_db[brazilian_db['created_at'].str.contains('Sun Sep 05', regex=False)]"
      ],
      "execution_count": null,
      "outputs": []
    },
    {
      "cell_type": "code",
      "metadata": {
        "colab": {
          "base_uri": "https://localhost:8080/",
          "height": 895
        },
        "id": "yv4bjRcPUVMt",
        "outputId": "dd7a6e31-cda2-495e-b9b0-25e0453920e1"
      },
      "source": [
        "brazilian_db"
      ],
      "execution_count": null,
      "outputs": [
        {
          "output_type": "execute_result",
          "data": {
            "text/html": [
              "<div>\n",
              "<style scoped>\n",
              "    .dataframe tbody tr th:only-of-type {\n",
              "        vertical-align: middle;\n",
              "    }\n",
              "\n",
              "    .dataframe tbody tr th {\n",
              "        vertical-align: top;\n",
              "    }\n",
              "\n",
              "    .dataframe thead th {\n",
              "        text-align: right;\n",
              "    }\n",
              "</style>\n",
              "<table border=\"1\" class=\"dataframe\">\n",
              "  <thead>\n",
              "    <tr style=\"text-align: right;\">\n",
              "      <th></th>\n",
              "      <th>created_at</th>\n",
              "      <th>id_str</th>\n",
              "      <th>text</th>\n",
              "      <th>truncated</th>\n",
              "      <th>is_quote_status</th>\n",
              "      <th>retweet_count</th>\n",
              "      <th>favorite_count</th>\n",
              "      <th>user_id_str</th>\n",
              "      <th>user_name</th>\n",
              "      <th>user_screen_name</th>\n",
              "      <th>user_location</th>\n",
              "      <th>is_verified_user</th>\n",
              "      <th>user_followers_count</th>\n",
              "      <th>user_friends_count</th>\n",
              "      <th>retweeted_created_at</th>\n",
              "      <th>retweeted_id_str</th>\n",
              "      <th>retweeted_text</th>\n",
              "      <th>retweeted_truncated</th>\n",
              "      <th>retweeted_user_id_str</th>\n",
              "      <th>retweeted_user_name</th>\n",
              "      <th>retweeted_user_screen_name</th>\n",
              "      <th>retweeted_user_location</th>\n",
              "      <th>retweeted_is_verified_user</th>\n",
              "      <th>retweeted_user_followers_count</th>\n",
              "      <th>retweeted_user_friends_count</th>\n",
              "      <th>retweeted_is_quote_status</th>\n",
              "      <th>retweeted_retweet_count</th>\n",
              "      <th>retweeted_favorite_count</th>\n",
              "    </tr>\n",
              "  </thead>\n",
              "  <tbody>\n",
              "    <tr>\n",
              "      <th>0</th>\n",
              "      <td>Sun Sep 05 23:59:59 +0000 2021</td>\n",
              "      <td>1434667659577204737</td>\n",
              "      <td>RT @contagemcorona1: 🚨URGENTE \\n\\nAnvisa inter...</td>\n",
              "      <td>False</td>\n",
              "      <td>False</td>\n",
              "      <td>232</td>\n",
              "      <td>0</td>\n",
              "      <td>870317170596696064</td>\n",
              "      <td>João Belfort</td>\n",
              "      <td>JohnyBelfort</td>\n",
              "      <td>NaN</td>\n",
              "      <td>False</td>\n",
              "      <td>79</td>\n",
              "      <td>681</td>\n",
              "      <td>Sun Sep 05 19:20:28 +0000 2021</td>\n",
              "      <td>1434597316166656004</td>\n",
              "      <td>🚨URGENTE \\n\\nAnvisa interrompeu Brasil x Argen...</td>\n",
              "      <td>1.0</td>\n",
              "      <td>1245441853740191753</td>\n",
              "      <td>Contagem coronavírus - Brasil (Notícias 24 horas)</td>\n",
              "      <td>contagemcorona1</td>\n",
              "      <td>Brasil</td>\n",
              "      <td>False</td>\n",
              "      <td>32811.0</td>\n",
              "      <td>454.0</td>\n",
              "      <td>0.0</td>\n",
              "      <td>232.0</td>\n",
              "      <td>1287.0</td>\n",
              "    </tr>\n",
              "    <tr>\n",
              "      <th>1</th>\n",
              "      <td>Sun Sep 05 23:59:57 +0000 2021</td>\n",
              "      <td>1434667650525892609</td>\n",
              "      <td>RT @pauloteixeira13: Presidente delinquente in...</td>\n",
              "      <td>False</td>\n",
              "      <td>False</td>\n",
              "      <td>196</td>\n",
              "      <td>0</td>\n",
              "      <td>191640915</td>\n",
              "      <td>Rosinaldo JB Ribeiro 🚩</td>\n",
              "      <td>RibeirosXingu</td>\n",
              "      <td>Rio Xingu, S.Félix Xingu PA</td>\n",
              "      <td>False</td>\n",
              "      <td>452</td>\n",
              "      <td>767</td>\n",
              "      <td>Sun Sep 05 19:19:47 +0000 2021</td>\n",
              "      <td>1434597143789064195</td>\n",
              "      <td>Presidente delinquente interrompe partida de f...</td>\n",
              "      <td>0.0</td>\n",
              "      <td>25562342</td>\n",
              "      <td>Paulo Teixeira</td>\n",
              "      <td>pauloteixeira13</td>\n",
              "      <td>ÜT: -23.542504,-46.657429</td>\n",
              "      <td>True</td>\n",
              "      <td>221217.0</td>\n",
              "      <td>67420.0</td>\n",
              "      <td>0.0</td>\n",
              "      <td>196.0</td>\n",
              "      <td>1816.0</td>\n",
              "    </tr>\n",
              "    <tr>\n",
              "      <th>2</th>\n",
              "      <td>Sun Sep 05 23:59:57 +0000 2021</td>\n",
              "      <td>1434667648995020809</td>\n",
              "      <td>BRASIL X ARGENTINA https://t.co/wR63WsVWwW</td>\n",
              "      <td>False</td>\n",
              "      <td>False</td>\n",
              "      <td>0</td>\n",
              "      <td>0</td>\n",
              "      <td>262460609</td>\n",
              "      <td>RODRIGO GODOI</td>\n",
              "      <td>RGODOI_OFICIAL</td>\n",
              "      <td>Governador Valadares, Brasil</td>\n",
              "      <td>False</td>\n",
              "      <td>421</td>\n",
              "      <td>1120</td>\n",
              "      <td>NaN</td>\n",
              "      <td>NaN</td>\n",
              "      <td>NaN</td>\n",
              "      <td>NaN</td>\n",
              "      <td>NaN</td>\n",
              "      <td>NaN</td>\n",
              "      <td>NaN</td>\n",
              "      <td>NaN</td>\n",
              "      <td>NaN</td>\n",
              "      <td>NaN</td>\n",
              "      <td>NaN</td>\n",
              "      <td>NaN</td>\n",
              "      <td>NaN</td>\n",
              "      <td>NaN</td>\n",
              "    </tr>\n",
              "    <tr>\n",
              "      <th>3</th>\n",
              "      <td>Sun Sep 05 23:59:56 +0000 2021</td>\n",
              "      <td>1434667647837343746</td>\n",
              "      <td>RT @OGuardiaoSP: Argentina não cumpre protocol...</td>\n",
              "      <td>False</td>\n",
              "      <td>False</td>\n",
              "      <td>37</td>\n",
              "      <td>0</td>\n",
              "      <td>1088409092815814657</td>\n",
              "      <td>Sarinha Petterle</td>\n",
              "      <td>PetterleSarinha</td>\n",
              "      <td>RS</td>\n",
              "      <td>False</td>\n",
              "      <td>4346</td>\n",
              "      <td>3384</td>\n",
              "      <td>Sun Sep 05 22:56:17 +0000 2021</td>\n",
              "      <td>1434651630293635073</td>\n",
              "      <td>Argentina não cumpre protocolo sanitário, Anvi...</td>\n",
              "      <td>1.0</td>\n",
              "      <td>1153794949336444928</td>\n",
              "      <td>Combatente 🇧🇷</td>\n",
              "      <td>OGuardiaoSP</td>\n",
              "      <td>NaN</td>\n",
              "      <td>False</td>\n",
              "      <td>16795.0</td>\n",
              "      <td>15751.0</td>\n",
              "      <td>0.0</td>\n",
              "      <td>37.0</td>\n",
              "      <td>159.0</td>\n",
              "    </tr>\n",
              "    <tr>\n",
              "      <th>4</th>\n",
              "      <td>Sun Sep 05 23:59:55 +0000 2021</td>\n",
              "      <td>1434667644553211904</td>\n",
              "      <td>RT @JoaquinTeixeira: O QUE MAIS ME DEIXOU CHOC...</td>\n",
              "      <td>False</td>\n",
              "      <td>False</td>\n",
              "      <td>1054</td>\n",
              "      <td>0</td>\n",
              "      <td>43970768</td>\n",
              "      <td>Carlos Eugenio Rezende</td>\n",
              "      <td>EugenioRezende</td>\n",
              "      <td>Brasil</td>\n",
              "      <td>False</td>\n",
              "      <td>175</td>\n",
              "      <td>157</td>\n",
              "      <td>Sun Sep 05 22:31:23 +0000 2021</td>\n",
              "      <td>1434645361549795334</td>\n",
              "      <td>O QUE MAIS ME DEIXOU CHOCADO NESSE JOGO BRASIL...</td>\n",
              "      <td>0.0</td>\n",
              "      <td>464128120</td>\n",
              "      <td>Joaquin Teixeira</td>\n",
              "      <td>JoaquinTeixeira</td>\n",
              "      <td>SEJA MEMBRO BRASIL PARALELO 👇</td>\n",
              "      <td>False</td>\n",
              "      <td>285850.0</td>\n",
              "      <td>4814.0</td>\n",
              "      <td>0.0</td>\n",
              "      <td>1054.0</td>\n",
              "      <td>10583.0</td>\n",
              "    </tr>\n",
              "    <tr>\n",
              "      <th>...</th>\n",
              "      <td>...</td>\n",
              "      <td>...</td>\n",
              "      <td>...</td>\n",
              "      <td>...</td>\n",
              "      <td>...</td>\n",
              "      <td>...</td>\n",
              "      <td>...</td>\n",
              "      <td>...</td>\n",
              "      <td>...</td>\n",
              "      <td>...</td>\n",
              "      <td>...</td>\n",
              "      <td>...</td>\n",
              "      <td>...</td>\n",
              "      <td>...</td>\n",
              "      <td>...</td>\n",
              "      <td>...</td>\n",
              "      <td>...</td>\n",
              "      <td>...</td>\n",
              "      <td>...</td>\n",
              "      <td>...</td>\n",
              "      <td>...</td>\n",
              "      <td>...</td>\n",
              "      <td>...</td>\n",
              "      <td>...</td>\n",
              "      <td>...</td>\n",
              "      <td>...</td>\n",
              "      <td>...</td>\n",
              "      <td>...</td>\n",
              "    </tr>\n",
              "    <tr>\n",
              "      <th>17682</th>\n",
              "      <td>Sun Sep 05 13:08:01 +0000 2021</td>\n",
              "      <td>1434503585669292033</td>\n",
              "      <td>Brasil e Argentina logo cedo aiai vamo brasa</td>\n",
              "      <td>False</td>\n",
              "      <td>False</td>\n",
              "      <td>1</td>\n",
              "      <td>0</td>\n",
              "      <td>970490826013990913</td>\n",
              "      <td>John</td>\n",
              "      <td>gJohncg</td>\n",
              "      <td>Vitória, Brasil</td>\n",
              "      <td>False</td>\n",
              "      <td>119</td>\n",
              "      <td>99</td>\n",
              "      <td>NaN</td>\n",
              "      <td>NaN</td>\n",
              "      <td>NaN</td>\n",
              "      <td>NaN</td>\n",
              "      <td>NaN</td>\n",
              "      <td>NaN</td>\n",
              "      <td>NaN</td>\n",
              "      <td>NaN</td>\n",
              "      <td>NaN</td>\n",
              "      <td>NaN</td>\n",
              "      <td>NaN</td>\n",
              "      <td>NaN</td>\n",
              "      <td>NaN</td>\n",
              "      <td>NaN</td>\n",
              "    </tr>\n",
              "    <tr>\n",
              "      <th>17683</th>\n",
              "      <td>Sun Sep 05 12:51:11 +0000 2021</td>\n",
              "      <td>1434499349384474629</td>\n",
              "      <td>AO VIVO: Brasil decide o título sul-americano ...</td>\n",
              "      <td>False</td>\n",
              "      <td>False</td>\n",
              "      <td>9</td>\n",
              "      <td>198</td>\n",
              "      <td>10842792</td>\n",
              "      <td>ge</td>\n",
              "      <td>geglobo</td>\n",
              "      <td>Brasil</td>\n",
              "      <td>True</td>\n",
              "      <td>5368794</td>\n",
              "      <td>377</td>\n",
              "      <td>NaN</td>\n",
              "      <td>NaN</td>\n",
              "      <td>NaN</td>\n",
              "      <td>NaN</td>\n",
              "      <td>NaN</td>\n",
              "      <td>NaN</td>\n",
              "      <td>NaN</td>\n",
              "      <td>NaN</td>\n",
              "      <td>NaN</td>\n",
              "      <td>NaN</td>\n",
              "      <td>NaN</td>\n",
              "      <td>NaN</td>\n",
              "      <td>NaN</td>\n",
              "      <td>NaN</td>\n",
              "    </tr>\n",
              "    <tr>\n",
              "      <th>17684</th>\n",
              "      <td>Sun Sep 05 13:00:21 +0000 2021</td>\n",
              "      <td>1434501655865839616</td>\n",
              "      <td>ACORDEI NÉ E TALS, AÍ FUI NA COZINHA TOMAR UM ...</td>\n",
              "      <td>True</td>\n",
              "      <td>False</td>\n",
              "      <td>2</td>\n",
              "      <td>25</td>\n",
              "      <td>1366101294071578626</td>\n",
              "      <td>juridico jake gyllenhaal</td>\n",
              "      <td>dinlenrau</td>\n",
              "      <td>NaN</td>\n",
              "      <td>False</td>\n",
              "      <td>6521</td>\n",
              "      <td>4333</td>\n",
              "      <td>NaN</td>\n",
              "      <td>NaN</td>\n",
              "      <td>NaN</td>\n",
              "      <td>NaN</td>\n",
              "      <td>NaN</td>\n",
              "      <td>NaN</td>\n",
              "      <td>NaN</td>\n",
              "      <td>NaN</td>\n",
              "      <td>NaN</td>\n",
              "      <td>NaN</td>\n",
              "      <td>NaN</td>\n",
              "      <td>NaN</td>\n",
              "      <td>NaN</td>\n",
              "      <td>NaN</td>\n",
              "    </tr>\n",
              "    <tr>\n",
              "      <th>17685</th>\n",
              "      <td>Sun Sep 05 13:23:31 +0000 2021</td>\n",
              "      <td>1434507488867520513</td>\n",
              "      <td>LIGUEM A TV ESTÁ PASSANDO VÔLEI BRASIL X ARGEN...</td>\n",
              "      <td>False</td>\n",
              "      <td>False</td>\n",
              "      <td>1</td>\n",
              "      <td>3</td>\n",
              "      <td>2258318731</td>\n",
              "      <td>susana ⎊🌈</td>\n",
              "      <td>susanafbrm</td>\n",
              "      <td>Rio de Janeiro</td>\n",
              "      <td>False</td>\n",
              "      <td>3381</td>\n",
              "      <td>3181</td>\n",
              "      <td>NaN</td>\n",
              "      <td>NaN</td>\n",
              "      <td>NaN</td>\n",
              "      <td>NaN</td>\n",
              "      <td>NaN</td>\n",
              "      <td>NaN</td>\n",
              "      <td>NaN</td>\n",
              "      <td>NaN</td>\n",
              "      <td>NaN</td>\n",
              "      <td>NaN</td>\n",
              "      <td>NaN</td>\n",
              "      <td>NaN</td>\n",
              "      <td>NaN</td>\n",
              "      <td>NaN</td>\n",
              "    </tr>\n",
              "    <tr>\n",
              "      <th>17686</th>\n",
              "      <td>Sun Sep 05 13:14:01 +0000 2021</td>\n",
              "      <td>1434505097854263297</td>\n",
              "      <td>brasil vai botar a argentina pra mamar em dois...</td>\n",
              "      <td>False</td>\n",
              "      <td>False</td>\n",
              "      <td>10</td>\n",
              "      <td>26</td>\n",
              "      <td>1301266537530220544</td>\n",
              "      <td>Betina🍷</td>\n",
              "      <td>joshanyfame</td>\n",
              "      <td>a/ela/-a</td>\n",
              "      <td>False</td>\n",
              "      <td>4693</td>\n",
              "      <td>3165</td>\n",
              "      <td>NaN</td>\n",
              "      <td>NaN</td>\n",
              "      <td>NaN</td>\n",
              "      <td>NaN</td>\n",
              "      <td>NaN</td>\n",
              "      <td>NaN</td>\n",
              "      <td>NaN</td>\n",
              "      <td>NaN</td>\n",
              "      <td>NaN</td>\n",
              "      <td>NaN</td>\n",
              "      <td>NaN</td>\n",
              "      <td>NaN</td>\n",
              "      <td>NaN</td>\n",
              "      <td>NaN</td>\n",
              "    </tr>\n",
              "  </tbody>\n",
              "</table>\n",
              "<p>17659 rows × 28 columns</p>\n",
              "</div>"
            ],
            "text/plain": [
              "                           created_at  ... retweeted_favorite_count\n",
              "0      Sun Sep 05 23:59:59 +0000 2021  ...                   1287.0\n",
              "1      Sun Sep 05 23:59:57 +0000 2021  ...                   1816.0\n",
              "2      Sun Sep 05 23:59:57 +0000 2021  ...                      NaN\n",
              "3      Sun Sep 05 23:59:56 +0000 2021  ...                    159.0\n",
              "4      Sun Sep 05 23:59:55 +0000 2021  ...                  10583.0\n",
              "...                               ...  ...                      ...\n",
              "17682  Sun Sep 05 13:08:01 +0000 2021  ...                      NaN\n",
              "17683  Sun Sep 05 12:51:11 +0000 2021  ...                      NaN\n",
              "17684  Sun Sep 05 13:00:21 +0000 2021  ...                      NaN\n",
              "17685  Sun Sep 05 13:23:31 +0000 2021  ...                      NaN\n",
              "17686  Sun Sep 05 13:14:01 +0000 2021  ...                      NaN\n",
              "\n",
              "[17659 rows x 28 columns]"
            ]
          },
          "metadata": {},
          "execution_count": 51
        }
      ]
    },
    {
      "cell_type": "code",
      "metadata": {
        "colab": {
          "base_uri": "https://localhost:8080/",
          "height": 591
        },
        "id": "h1X1uHzl0sJi",
        "outputId": "cde0f894-31cd-4b04-88f6-8480f4b1c37f"
      },
      "source": [
        "brazilian_db = brazilian_db.sort_values(by='retweet_count', ascending=False)\n",
        "brazilian_db_tt = brazilian_db[brazilian_db['retweeted_id_str'].isna()].head()\n",
        "brazilian_db_tt"
      ],
      "execution_count": null,
      "outputs": [
        {
          "output_type": "execute_result",
          "data": {
            "text/html": [
              "<div>\n",
              "<style scoped>\n",
              "    .dataframe tbody tr th:only-of-type {\n",
              "        vertical-align: middle;\n",
              "    }\n",
              "\n",
              "    .dataframe tbody tr th {\n",
              "        vertical-align: top;\n",
              "    }\n",
              "\n",
              "    .dataframe thead th {\n",
              "        text-align: right;\n",
              "    }\n",
              "</style>\n",
              "<table border=\"1\" class=\"dataframe\">\n",
              "  <thead>\n",
              "    <tr style=\"text-align: right;\">\n",
              "      <th></th>\n",
              "      <th>created_at</th>\n",
              "      <th>id_str</th>\n",
              "      <th>text</th>\n",
              "      <th>truncated</th>\n",
              "      <th>is_quote_status</th>\n",
              "      <th>retweet_count</th>\n",
              "      <th>favorite_count</th>\n",
              "      <th>user_id_str</th>\n",
              "      <th>user_name</th>\n",
              "      <th>user_screen_name</th>\n",
              "      <th>user_location</th>\n",
              "      <th>is_verified_user</th>\n",
              "      <th>user_followers_count</th>\n",
              "      <th>user_friends_count</th>\n",
              "      <th>retweeted_created_at</th>\n",
              "      <th>retweeted_id_str</th>\n",
              "      <th>retweeted_text</th>\n",
              "      <th>retweeted_truncated</th>\n",
              "      <th>retweeted_user_id_str</th>\n",
              "      <th>retweeted_user_name</th>\n",
              "      <th>retweeted_user_screen_name</th>\n",
              "      <th>retweeted_user_location</th>\n",
              "      <th>retweeted_is_verified_user</th>\n",
              "      <th>retweeted_user_followers_count</th>\n",
              "      <th>retweeted_user_friends_count</th>\n",
              "      <th>retweeted_is_quote_status</th>\n",
              "      <th>retweeted_retweet_count</th>\n",
              "      <th>retweeted_favorite_count</th>\n",
              "    </tr>\n",
              "  </thead>\n",
              "  <tbody>\n",
              "    <tr>\n",
              "      <th>16946</th>\n",
              "      <td>Sun Sep 05 19:44:38 +0000 2021</td>\n",
              "      <td>1434603399203467266</td>\n",
              "      <td>IMAGINA O DESESPERO DO MENDONÇA AMANHÃ NA REPA...</td>\n",
              "      <td>True</td>\n",
              "      <td>False</td>\n",
              "      <td>12214</td>\n",
              "      <td>66322</td>\n",
              "      <td>1205585363957436416</td>\n",
              "      <td>CPI DOS MEMES</td>\n",
              "      <td>cpidosmemes</td>\n",
              "      <td>ative as notificações</td>\n",
              "      <td>False</td>\n",
              "      <td>48150</td>\n",
              "      <td>122</td>\n",
              "      <td>NaN</td>\n",
              "      <td>NaN</td>\n",
              "      <td>NaN</td>\n",
              "      <td>NaN</td>\n",
              "      <td>NaN</td>\n",
              "      <td>NaN</td>\n",
              "      <td>NaN</td>\n",
              "      <td>NaN</td>\n",
              "      <td>NaN</td>\n",
              "      <td>NaN</td>\n",
              "      <td>NaN</td>\n",
              "      <td>NaN</td>\n",
              "      <td>NaN</td>\n",
              "      <td>NaN</td>\n",
              "    </tr>\n",
              "    <tr>\n",
              "      <th>14000</th>\n",
              "      <td>Sun Sep 05 19:34:01 +0000 2021</td>\n",
              "      <td>1434600727880638464</td>\n",
              "      <td>Então quer dizer que a Argentina tentou implac...</td>\n",
              "      <td>False</td>\n",
              "      <td>False</td>\n",
              "      <td>7816</td>\n",
              "      <td>71890</td>\n",
              "      <td>226542162</td>\n",
              "      <td>Felipe Castanhari</td>\n",
              "      <td>FeCastanhari</td>\n",
              "      <td>Osasco, SP</td>\n",
              "      <td>True</td>\n",
              "      <td>7379450</td>\n",
              "      <td>1690</td>\n",
              "      <td>NaN</td>\n",
              "      <td>NaN</td>\n",
              "      <td>NaN</td>\n",
              "      <td>NaN</td>\n",
              "      <td>NaN</td>\n",
              "      <td>NaN</td>\n",
              "      <td>NaN</td>\n",
              "      <td>NaN</td>\n",
              "      <td>NaN</td>\n",
              "      <td>NaN</td>\n",
              "      <td>NaN</td>\n",
              "      <td>NaN</td>\n",
              "      <td>NaN</td>\n",
              "      <td>NaN</td>\n",
              "    </tr>\n",
              "    <tr>\n",
              "      <th>17541</th>\n",
              "      <td>Sun Sep 05 21:02:58 +0000 2021</td>\n",
              "      <td>1434623111236882435</td>\n",
              "      <td>Beleza, todo mundo entendeu q os jogadores da ...</td>\n",
              "      <td>True</td>\n",
              "      <td>False</td>\n",
              "      <td>4820</td>\n",
              "      <td>24701</td>\n",
              "      <td>1087259768</td>\n",
              "      <td>TeAtualizei 🇧🇷👊🏻❤️</td>\n",
              "      <td>taoquei1</td>\n",
              "      <td>NaN</td>\n",
              "      <td>False</td>\n",
              "      <td>615902</td>\n",
              "      <td>1555</td>\n",
              "      <td>NaN</td>\n",
              "      <td>NaN</td>\n",
              "      <td>NaN</td>\n",
              "      <td>NaN</td>\n",
              "      <td>NaN</td>\n",
              "      <td>NaN</td>\n",
              "      <td>NaN</td>\n",
              "      <td>NaN</td>\n",
              "      <td>NaN</td>\n",
              "      <td>NaN</td>\n",
              "      <td>NaN</td>\n",
              "      <td>NaN</td>\n",
              "      <td>NaN</td>\n",
              "      <td>NaN</td>\n",
              "    </tr>\n",
              "    <tr>\n",
              "      <th>151</th>\n",
              "      <td>Sun Sep 05 23:58:16 +0000 2021</td>\n",
              "      <td>1434667226787942408</td>\n",
              "      <td>neymagro e confusao no brasil x argentina http...</td>\n",
              "      <td>False</td>\n",
              "      <td>False</td>\n",
              "      <td>4781</td>\n",
              "      <td>23169</td>\n",
              "      <td>1382456754009694211</td>\n",
              "      <td>comentaristaedu</td>\n",
              "      <td>comentaristaedu</td>\n",
              "      <td>NaN</td>\n",
              "      <td>False</td>\n",
              "      <td>40360</td>\n",
              "      <td>200</td>\n",
              "      <td>NaN</td>\n",
              "      <td>NaN</td>\n",
              "      <td>NaN</td>\n",
              "      <td>NaN</td>\n",
              "      <td>NaN</td>\n",
              "      <td>NaN</td>\n",
              "      <td>NaN</td>\n",
              "      <td>NaN</td>\n",
              "      <td>NaN</td>\n",
              "      <td>NaN</td>\n",
              "      <td>NaN</td>\n",
              "      <td>NaN</td>\n",
              "      <td>NaN</td>\n",
              "      <td>NaN</td>\n",
              "    </tr>\n",
              "    <tr>\n",
              "      <th>17344</th>\n",
              "      <td>Wed Sep 01 04:02:38 +0000 2021</td>\n",
              "      <td>1432916785737654275</td>\n",
              "      <td>Em Portugal Cristiano Ronaldo é amado, na Arge...</td>\n",
              "      <td>True</td>\n",
              "      <td>False</td>\n",
              "      <td>4331</td>\n",
              "      <td>23429</td>\n",
              "      <td>1424567220311666695</td>\n",
              "      <td>adulto Neymar FC</td>\n",
              "      <td>adultoneymarjrr</td>\n",
              "      <td>Paris, France</td>\n",
              "      <td>False</td>\n",
              "      <td>415</td>\n",
              "      <td>267</td>\n",
              "      <td>NaN</td>\n",
              "      <td>NaN</td>\n",
              "      <td>NaN</td>\n",
              "      <td>NaN</td>\n",
              "      <td>NaN</td>\n",
              "      <td>NaN</td>\n",
              "      <td>NaN</td>\n",
              "      <td>NaN</td>\n",
              "      <td>NaN</td>\n",
              "      <td>NaN</td>\n",
              "      <td>NaN</td>\n",
              "      <td>NaN</td>\n",
              "      <td>NaN</td>\n",
              "      <td>NaN</td>\n",
              "    </tr>\n",
              "  </tbody>\n",
              "</table>\n",
              "</div>"
            ],
            "text/plain": [
              "                           created_at  ... retweeted_favorite_count\n",
              "16946  Sun Sep 05 19:44:38 +0000 2021  ...                      NaN\n",
              "14000  Sun Sep 05 19:34:01 +0000 2021  ...                      NaN\n",
              "17541  Sun Sep 05 21:02:58 +0000 2021  ...                      NaN\n",
              "151    Sun Sep 05 23:58:16 +0000 2021  ...                      NaN\n",
              "17344  Wed Sep 01 04:02:38 +0000 2021  ...                      NaN\n",
              "\n",
              "[5 rows x 28 columns]"
            ]
          },
          "metadata": {},
          "execution_count": 72
        }
      ]
    },
    {
      "cell_type": "code",
      "metadata": {
        "colab": {
          "base_uri": "https://localhost:8080/",
          "height": 452
        },
        "id": "u_NzDhU355Jp",
        "outputId": "7c5e26f4-fc55-45be-b6dd-b2b5af4b7cbc"
      },
      "source": [
        "argentinian_db = argentinian_db.sort_values(by='retweet_count', ascending=False)\n",
        "argentinian_db_tt = argentinian_db[argentinian_db['retweeted_id_str'].isna()].head()\n",
        "argentinian_db_tt"
      ],
      "execution_count": null,
      "outputs": [
        {
          "output_type": "execute_result",
          "data": {
            "text/html": [
              "<div>\n",
              "<style scoped>\n",
              "    .dataframe tbody tr th:only-of-type {\n",
              "        vertical-align: middle;\n",
              "    }\n",
              "\n",
              "    .dataframe tbody tr th {\n",
              "        vertical-align: top;\n",
              "    }\n",
              "\n",
              "    .dataframe thead th {\n",
              "        text-align: right;\n",
              "    }\n",
              "</style>\n",
              "<table border=\"1\" class=\"dataframe\">\n",
              "  <thead>\n",
              "    <tr style=\"text-align: right;\">\n",
              "      <th></th>\n",
              "      <th>created_at</th>\n",
              "      <th>id_str</th>\n",
              "      <th>text</th>\n",
              "      <th>truncated</th>\n",
              "      <th>is_quote_status</th>\n",
              "      <th>retweet_count</th>\n",
              "      <th>favorite_count</th>\n",
              "      <th>user_id_str</th>\n",
              "      <th>user_name</th>\n",
              "      <th>user_screen_name</th>\n",
              "      <th>user_location</th>\n",
              "      <th>is_verified_user</th>\n",
              "      <th>user_followers_count</th>\n",
              "      <th>user_friends_count</th>\n",
              "      <th>retweeted_created_at</th>\n",
              "      <th>retweeted_id_str</th>\n",
              "      <th>retweeted_text</th>\n",
              "      <th>retweeted_truncated</th>\n",
              "      <th>retweeted_user_id_str</th>\n",
              "      <th>retweeted_user_name</th>\n",
              "      <th>retweeted_user_screen_name</th>\n",
              "      <th>retweeted_user_location</th>\n",
              "      <th>retweeted_is_verified_user</th>\n",
              "      <th>retweeted_user_followers_count</th>\n",
              "      <th>retweeted_user_friends_count</th>\n",
              "      <th>retweeted_is_quote_status</th>\n",
              "      <th>retweeted_retweet_count</th>\n",
              "      <th>retweeted_favorite_count</th>\n",
              "    </tr>\n",
              "  </thead>\n",
              "  <tbody>\n",
              "    <tr>\n",
              "      <th>14000</th>\n",
              "      <td>Sun Sep 05 19:58:43 +0000 2021</td>\n",
              "      <td>1434606943772069889</td>\n",
              "      <td>Por decisión del árbitro del partido, el encue...</td>\n",
              "      <td>True</td>\n",
              "      <td>False</td>\n",
              "      <td>9944</td>\n",
              "      <td>47537</td>\n",
              "      <td>1265260098</td>\n",
              "      <td>CONMEBOL.com</td>\n",
              "      <td>CONMEBOL</td>\n",
              "      <td>Sudamérica</td>\n",
              "      <td>True</td>\n",
              "      <td>1577629</td>\n",
              "      <td>614</td>\n",
              "      <td>NaN</td>\n",
              "      <td>NaN</td>\n",
              "      <td>NaN</td>\n",
              "      <td>NaN</td>\n",
              "      <td>NaN</td>\n",
              "      <td>NaN</td>\n",
              "      <td>NaN</td>\n",
              "      <td>NaN</td>\n",
              "      <td>NaN</td>\n",
              "      <td>NaN</td>\n",
              "      <td>NaN</td>\n",
              "      <td>NaN</td>\n",
              "      <td>NaN</td>\n",
              "      <td>NaN</td>\n",
              "    </tr>\n",
              "    <tr>\n",
              "      <th>16939</th>\n",
              "      <td>Sun Sep 05 18:57:53 +0000 2021</td>\n",
              "      <td>1434591631605370883</td>\n",
              "      <td>Porque la camiseta de Argentina tiene un parch...</td>\n",
              "      <td>False</td>\n",
              "      <td>False</td>\n",
              "      <td>7437</td>\n",
              "      <td>78709</td>\n",
              "      <td>135539946</td>\n",
              "      <td>Lucas Rodriguez</td>\n",
              "      <td>LuquitaRodrigue</td>\n",
              "      <td>NaN</td>\n",
              "      <td>False</td>\n",
              "      <td>190916</td>\n",
              "      <td>1346</td>\n",
              "      <td>NaN</td>\n",
              "      <td>NaN</td>\n",
              "      <td>NaN</td>\n",
              "      <td>NaN</td>\n",
              "      <td>NaN</td>\n",
              "      <td>NaN</td>\n",
              "      <td>NaN</td>\n",
              "      <td>NaN</td>\n",
              "      <td>NaN</td>\n",
              "      <td>NaN</td>\n",
              "      <td>NaN</td>\n",
              "      <td>NaN</td>\n",
              "      <td>NaN</td>\n",
              "      <td>NaN</td>\n",
              "    </tr>\n",
              "    <tr>\n",
              "      <th>14001</th>\n",
              "      <td>Sun Sep 05 19:31:57 +0000 2021</td>\n",
              "      <td>1434600205211643910</td>\n",
              "      <td>🏆 #Eliminatorias\\n\\nEl encuentro entre #Brasil...</td>\n",
              "      <td>False</td>\n",
              "      <td>False</td>\n",
              "      <td>6124</td>\n",
              "      <td>38229</td>\n",
              "      <td>2495199115</td>\n",
              "      <td>Selección Argentina 🇦🇷</td>\n",
              "      <td>Argentina</td>\n",
              "      <td>Argentina</td>\n",
              "      <td>True</td>\n",
              "      <td>4140110</td>\n",
              "      <td>59</td>\n",
              "      <td>NaN</td>\n",
              "      <td>NaN</td>\n",
              "      <td>NaN</td>\n",
              "      <td>NaN</td>\n",
              "      <td>NaN</td>\n",
              "      <td>NaN</td>\n",
              "      <td>NaN</td>\n",
              "      <td>NaN</td>\n",
              "      <td>NaN</td>\n",
              "      <td>NaN</td>\n",
              "      <td>NaN</td>\n",
              "      <td>NaN</td>\n",
              "      <td>NaN</td>\n",
              "      <td>NaN</td>\n",
              "    </tr>\n",
              "    <tr>\n",
              "      <th>18308</th>\n",
              "      <td>Wed Sep 01 14:01:40 +0000 2021</td>\n",
              "      <td>1433067537659572226</td>\n",
              "      <td>⚠️ ¡RECORDATORIO IMPORTANTE! ⚠️\\nEl primer riv...</td>\n",
              "      <td>True</td>\n",
              "      <td>False</td>\n",
              "      <td>4906</td>\n",
              "      <td>32678</td>\n",
              "      <td>15590302</td>\n",
              "      <td>TyC Sports</td>\n",
              "      <td>TyCSports</td>\n",
              "      <td>NaN</td>\n",
              "      <td>True</td>\n",
              "      <td>2629164</td>\n",
              "      <td>162</td>\n",
              "      <td>NaN</td>\n",
              "      <td>NaN</td>\n",
              "      <td>NaN</td>\n",
              "      <td>NaN</td>\n",
              "      <td>NaN</td>\n",
              "      <td>NaN</td>\n",
              "      <td>NaN</td>\n",
              "      <td>NaN</td>\n",
              "      <td>NaN</td>\n",
              "      <td>NaN</td>\n",
              "      <td>NaN</td>\n",
              "      <td>NaN</td>\n",
              "      <td>NaN</td>\n",
              "      <td>NaN</td>\n",
              "    </tr>\n",
              "    <tr>\n",
              "      <th>18329</th>\n",
              "      <td>Sat Aug 21 12:46:14 +0000 2021</td>\n",
              "      <td>1429062288414216201</td>\n",
              "      <td>Pobreza en Sudamérica 2021\\n\\n1.🇻🇪Venezuela: 8...</td>\n",
              "      <td>True</td>\n",
              "      <td>False</td>\n",
              "      <td>4198</td>\n",
              "      <td>7803</td>\n",
              "      <td>1356703597782855681</td>\n",
              "      <td>D R E S 🇨🇱</td>\n",
              "      <td>DresTrumpi</td>\n",
              "      <td>Chile.                Te sigue</td>\n",
              "      <td>False</td>\n",
              "      <td>4100</td>\n",
              "      <td>1586</td>\n",
              "      <td>NaN</td>\n",
              "      <td>NaN</td>\n",
              "      <td>NaN</td>\n",
              "      <td>NaN</td>\n",
              "      <td>NaN</td>\n",
              "      <td>NaN</td>\n",
              "      <td>NaN</td>\n",
              "      <td>NaN</td>\n",
              "      <td>NaN</td>\n",
              "      <td>NaN</td>\n",
              "      <td>NaN</td>\n",
              "      <td>NaN</td>\n",
              "      <td>NaN</td>\n",
              "      <td>NaN</td>\n",
              "    </tr>\n",
              "  </tbody>\n",
              "</table>\n",
              "</div>"
            ],
            "text/plain": [
              "                           created_at  ... retweeted_favorite_count\n",
              "14000  Sun Sep 05 19:58:43 +0000 2021  ...                      NaN\n",
              "16939  Sun Sep 05 18:57:53 +0000 2021  ...                      NaN\n",
              "14001  Sun Sep 05 19:31:57 +0000 2021  ...                      NaN\n",
              "18308  Wed Sep 01 14:01:40 +0000 2021  ...                      NaN\n",
              "18329  Sat Aug 21 12:46:14 +0000 2021  ...                      NaN\n",
              "\n",
              "[5 rows x 28 columns]"
            ]
          },
          "metadata": {},
          "execution_count": 84
        }
      ]
    },
    {
      "cell_type": "markdown",
      "metadata": {
        "id": "786dC2sBXWph"
      },
      "source": [
        "## Plot"
      ]
    },
    {
      "cell_type": "code",
      "metadata": {
        "colab": {
          "base_uri": "https://localhost:8080/",
          "height": 1000
        },
        "id": "vq-EABTRXWHA",
        "outputId": "b62c5c18-db8a-48da-ef95-267700aa75ef"
      },
      "source": [
        "fig, ax = plt.subplots(ncols = 2, figsize=(25,8))\n",
        "\n",
        "\n",
        "brazilian_db_tt[['retweet_count', 'user_name']]\n",
        "eixo_x_b = brazilian_db_tt['user_name']\n",
        "eixo_y_b = brazilian_db_tt['retweet_count']\n",
        "ax[0].barh(eixo_x_b, eixo_y_b, color = 'green')\n",
        "ax[0].set_title('Brazil',fontsize = 22)\n",
        "\n",
        "argentinian_db_tt[['retweet_count', 'user_name']]\n",
        "eixo_x_b = argentinian_db_tt['user_name']\n",
        "eixo_y_b = argentinian_db_tt['retweet_count']\n",
        "ax[1].barh(eixo_x_b, eixo_y_b, color = 'deepskyblue')\n",
        "ax[1].set_title('Argentina', fontsize = 22)\n",
        "\n",
        "fig.suptitle(\"Most user retweets\",fontsize = 26)\n",
        "plt.show()\n"
      ],
      "execution_count": null,
      "outputs": [
        {
          "output_type": "stream",
          "name": "stderr",
          "text": [
            "/usr/local/lib/python3.7/dist-packages/matplotlib/backends/backend_agg.py:214: RuntimeWarning: Glyph 127463 missing from current font.\n",
            "  font.set_text(s, 0.0, flags=flags)\n",
            "/usr/local/lib/python3.7/dist-packages/matplotlib/backends/backend_agg.py:214: RuntimeWarning: Glyph 127479 missing from current font.\n",
            "  font.set_text(s, 0.0, flags=flags)\n",
            "/usr/local/lib/python3.7/dist-packages/matplotlib/backends/backend_agg.py:214: RuntimeWarning: Glyph 128074 missing from current font.\n",
            "  font.set_text(s, 0.0, flags=flags)\n",
            "/usr/local/lib/python3.7/dist-packages/matplotlib/backends/backend_agg.py:214: RuntimeWarning: Glyph 127995 missing from current font.\n",
            "  font.set_text(s, 0.0, flags=flags)\n",
            "/usr/local/lib/python3.7/dist-packages/matplotlib/backends/backend_agg.py:214: RuntimeWarning: Glyph 127462 missing from current font.\n",
            "  font.set_text(s, 0.0, flags=flags)\n",
            "/usr/local/lib/python3.7/dist-packages/matplotlib/backends/backend_agg.py:214: RuntimeWarning: Glyph 127464 missing from current font.\n",
            "  font.set_text(s, 0.0, flags=flags)\n",
            "/usr/local/lib/python3.7/dist-packages/matplotlib/backends/backend_agg.py:214: RuntimeWarning: Glyph 127473 missing from current font.\n",
            "  font.set_text(s, 0.0, flags=flags)\n",
            "/usr/local/lib/python3.7/dist-packages/matplotlib/backends/backend_agg.py:183: RuntimeWarning: Glyph 127463 missing from current font.\n",
            "  font.set_text(s, 0, flags=flags)\n",
            "/usr/local/lib/python3.7/dist-packages/matplotlib/backends/backend_agg.py:183: RuntimeWarning: Glyph 127479 missing from current font.\n",
            "  font.set_text(s, 0, flags=flags)\n",
            "/usr/local/lib/python3.7/dist-packages/matplotlib/backends/backend_agg.py:183: RuntimeWarning: Glyph 128074 missing from current font.\n",
            "  font.set_text(s, 0, flags=flags)\n",
            "/usr/local/lib/python3.7/dist-packages/matplotlib/backends/backend_agg.py:183: RuntimeWarning: Glyph 127995 missing from current font.\n",
            "  font.set_text(s, 0, flags=flags)\n",
            "/usr/local/lib/python3.7/dist-packages/matplotlib/backends/backend_agg.py:183: RuntimeWarning: Glyph 127462 missing from current font.\n",
            "  font.set_text(s, 0, flags=flags)\n",
            "/usr/local/lib/python3.7/dist-packages/matplotlib/backends/backend_agg.py:183: RuntimeWarning: Glyph 127464 missing from current font.\n",
            "  font.set_text(s, 0, flags=flags)\n",
            "/usr/local/lib/python3.7/dist-packages/matplotlib/backends/backend_agg.py:183: RuntimeWarning: Glyph 127473 missing from current font.\n",
            "  font.set_text(s, 0, flags=flags)\n"
          ]
        },
        {
          "output_type": "display_data",
          "data": {
            "image/png": "[encoded data removed]",
            "text/plain": [
              "<Figure size 1800x576 with 2 Axes>"
            ]
          },
          "metadata": {
            "needs_background": "light"
          }
        }
      ]
    },
    {
      "cell_type": "code",
      "metadata": {
        "id": "YFLScKG4cZuP"
      },
      "source": [
        "''"
      ],
      "execution_count": null,
      "outputs": []
    },
    {
      "cell_type": "markdown",
      "metadata": {
        "id": "XsYReD8e2KcA"
      },
      "source": [
        "#Network Analisys"
      ]
    },
    {
      "cell_type": "markdown",
      "metadata": {
        "id": "cKum9TfI2fS1"
      },
      "source": [
        "## Dependence"
      ]
    },
    {
      "cell_type": "code",
      "metadata": {
        "id": "2H-s0eoe2OeN"
      },
      "source": [
        "!wget https://github.com/matheusmas132/Retweets-Network-Analysis/raw/main/data/argentinian_tweets_net.graphml\n",
        "!wget https://github.com/matheusmas132/Retweets-Network-Analysis/raw/main/data/brazilian_tweets_net.graphml\n",
        "!wget https://github.com/matheusmas132/Retweets-Network-Analysis/raw/main/data/argentinian_users_net.graphml\n",
        "!wget https://github.com/matheusmas132/Retweets-Network-Analysis/raw/main/data/brazilian_users_net.graphml\n"
      ],
      "execution_count": null,
      "outputs": []
    },
    {
      "cell_type": "code",
      "metadata": {
        "colab": {
          "base_uri": "https://localhost:8080/"
        },
        "id": "eyJQSUjs2ani",
        "outputId": "8889fd08-7ef6-4d0f-cc5e-05b51d654909"
      },
      "source": [
        "!pip install networkx==2.6.2\n",
        "import networkx as nt"
      ],
      "execution_count": null,
      "outputs": [
        {
          "output_type": "stream",
          "name": "stdout",
          "text": [
            "Requirement already satisfied: networkx==2.6.2 in /usr/local/lib/python3.7/dist-packages (2.6.2)\n"
          ]
        }
      ]
    },
    {
      "cell_type": "code",
      "metadata": {
        "id": "k9snBH3J5g3l"
      },
      "source": [
        "brazilian_tt_nw = nt.read_graphml('brazilian_tweets_net.graphml')\n",
        "argentinian_tt_nw = nt.read_graphml('argentinian_tweets_net.graphml')\n",
        "brazilian_users_nw = nt.read_graphml('brazilian_users_net.graphml')\n",
        "argentinian_users_nw = nt.read_graphml('argentinian_users_net.graphml')"
      ],
      "execution_count": null,
      "outputs": []
    },
    {
      "cell_type": "markdown",
      "metadata": {
        "id": "Ewh_hoMDFGJv"
      },
      "source": [
        "#out_degree"
      ]
    },
    {
      "cell_type": "code",
      "metadata": {
        "id": "-HzGw4b-7lmI"
      },
      "source": [
        "brazilian_tt_nw.number_of_nodes()\n",
        "\n",
        "node_sizes = [brazilian_tt_nw.out_degree(n, weight='weight') * 50 for n in brazilian_tt_nw.nodes]\n",
        "\n",
        "%matplotlib inline\n",
        "nx.draw(brazilian_tt_nw, node_size=node_sizes)"
      ],
      "execution_count": null,
      "outputs": []
    },
    {
      "cell_type": "code",
      "metadata": {
        "id": "C3Qur2VM-udc"
      },
      "source": [
        "nw_b_tt_od = pd.DataFrame(brazilian_tt_nw.out_degree())\n",
        "nw_a_tt_od = pd.DataFrame(argentinian_tt_nw.out_degree())\n",
        "\n",
        "nw_b_users_od = pd.DataFrame(brazilian_users_nw.out_degree())\n",
        "nw_a_users_od = pd.DataFrame(argentinian_users_nw.out_degree())\n",
        "#sort_values(by=1, ascending=False)\n",
        "\n",
        "nw_b_tt_od = nw_b_tt_od.sort_values(by=1, ascending=False).head().rename(columns={0: \"Twitee\",1: \"Metric\"})\n",
        "nw_a_tt_od = nw_a_tt_od.sort_values(by=1, ascending=False).head().rename(columns={0: \"Twitee\",1: \"Metric\"})\n",
        "nw_b_users_od = nw_b_users_od.sort_values(by=1, ascending=False).head().rename(columns={0: \"User\",1: \"Metric\"})\n",
        "nw_a_users_od = nw_a_users_od.sort_values(by=1, ascending=False).head().rename(columns={0: \"User\",1: \"Metric\"})"
      ],
      "execution_count": null,
      "outputs": []
    },
    {
      "cell_type": "code",
      "metadata": {
        "colab": {
          "base_uri": "https://localhost:8080/",
          "height": 225
        },
        "id": "bzNBt5-lDnLj",
        "outputId": "e72ccc3f-8e54-4cca-8ded-860174acb11e"
      },
      "source": [
        "print('Brazil twiters')\n",
        "nw_b_tt_od"
      ],
      "execution_count": null,
      "outputs": [
        {
          "output_type": "stream",
          "name": "stdout",
          "text": [
            "Brazil twiters\n"
          ]
        },
        {
          "output_type": "execute_result",
          "data": {
            "text/html": [
              "<div>\n",
              "<style scoped>\n",
              "    .dataframe tbody tr th:only-of-type {\n",
              "        vertical-align: middle;\n",
              "    }\n",
              "\n",
              "    .dataframe tbody tr th {\n",
              "        vertical-align: top;\n",
              "    }\n",
              "\n",
              "    .dataframe thead th {\n",
              "        text-align: right;\n",
              "    }\n",
              "</style>\n",
              "<table border=\"1\" class=\"dataframe\">\n",
              "  <thead>\n",
              "    <tr style=\"text-align: right;\">\n",
              "      <th></th>\n",
              "      <th>Twitee</th>\n",
              "      <th>Metric</th>\n",
              "    </tr>\n",
              "  </thead>\n",
              "  <tbody>\n",
              "    <tr>\n",
              "      <th>66</th>\n",
              "      <td>1434603399203467266</td>\n",
              "      <td>1676</td>\n",
              "    </tr>\n",
              "    <tr>\n",
              "      <th>68</th>\n",
              "      <td>1434631163788906512</td>\n",
              "      <td>554</td>\n",
              "    </tr>\n",
              "    <tr>\n",
              "      <th>61</th>\n",
              "      <td>1434600727880638464</td>\n",
              "      <td>554</td>\n",
              "    </tr>\n",
              "    <tr>\n",
              "      <th>6</th>\n",
              "      <td>1434645361549795334</td>\n",
              "      <td>394</td>\n",
              "    </tr>\n",
              "    <tr>\n",
              "      <th>202</th>\n",
              "      <td>1434601502602145798</td>\n",
              "      <td>321</td>\n",
              "    </tr>\n",
              "  </tbody>\n",
              "</table>\n",
              "</div>"
            ],
            "text/plain": [
              "                  Twitee  Metric\n",
              "66   1434603399203467266    1676\n",
              "68   1434631163788906512     554\n",
              "61   1434600727880638464     554\n",
              "6    1434645361549795334     394\n",
              "202  1434601502602145798     321"
            ]
          },
          "metadata": {},
          "execution_count": 219
        }
      ]
    },
    {
      "cell_type": "code",
      "metadata": {
        "colab": {
          "base_uri": "https://localhost:8080/",
          "height": 225
        },
        "id": "oVt4QbaeAESl",
        "outputId": "77c9d888-c5eb-4ac7-a648-03b802166dff"
      },
      "source": [
        "print('Argentina twiters')\n",
        "nw_a_tt_od"
      ],
      "execution_count": null,
      "outputs": [
        {
          "output_type": "stream",
          "name": "stdout",
          "text": [
            "Argentina twiters\n"
          ]
        },
        {
          "output_type": "execute_result",
          "data": {
            "text/html": [
              "<div>\n",
              "<style scoped>\n",
              "    .dataframe tbody tr th:only-of-type {\n",
              "        vertical-align: middle;\n",
              "    }\n",
              "\n",
              "    .dataframe tbody tr th {\n",
              "        vertical-align: top;\n",
              "    }\n",
              "\n",
              "    .dataframe thead th {\n",
              "        text-align: right;\n",
              "    }\n",
              "</style>\n",
              "<table border=\"1\" class=\"dataframe\">\n",
              "  <thead>\n",
              "    <tr style=\"text-align: right;\">\n",
              "      <th></th>\n",
              "      <th>Twitee</th>\n",
              "      <th>Metric</th>\n",
              "    </tr>\n",
              "  </thead>\n",
              "  <tbody>\n",
              "    <tr>\n",
              "      <th>32</th>\n",
              "      <td>1434591631605370883</td>\n",
              "      <td>534</td>\n",
              "    </tr>\n",
              "    <tr>\n",
              "      <th>202</th>\n",
              "      <td>1434606943772069889</td>\n",
              "      <td>309</td>\n",
              "    </tr>\n",
              "    <tr>\n",
              "      <th>2291</th>\n",
              "      <td>1434346146705678341</td>\n",
              "      <td>287</td>\n",
              "    </tr>\n",
              "    <tr>\n",
              "      <th>111</th>\n",
              "      <td>1434617250900762627</td>\n",
              "      <td>282</td>\n",
              "    </tr>\n",
              "    <tr>\n",
              "      <th>106</th>\n",
              "      <td>1434623713895460867</td>\n",
              "      <td>263</td>\n",
              "    </tr>\n",
              "  </tbody>\n",
              "</table>\n",
              "</div>"
            ],
            "text/plain": [
              "                   Twitee  Metric\n",
              "32    1434591631605370883     534\n",
              "202   1434606943772069889     309\n",
              "2291  1434346146705678341     287\n",
              "111   1434617250900762627     282\n",
              "106   1434623713895460867     263"
            ]
          },
          "metadata": {},
          "execution_count": 220
        }
      ]
    },
    {
      "cell_type": "code",
      "metadata": {
        "colab": {
          "base_uri": "https://localhost:8080/",
          "height": 225
        },
        "id": "VhCPOPSHAJ8b",
        "outputId": "c93e04b3-1323-425c-843c-7092f09a78e4"
      },
      "source": [
        "print('Brazil users')\n",
        "nw_b_users_od"
      ],
      "execution_count": null,
      "outputs": [
        {
          "output_type": "stream",
          "name": "stdout",
          "text": [
            "Brazil users\n"
          ]
        },
        {
          "output_type": "execute_result",
          "data": {
            "text/html": [
              "<div>\n",
              "<style scoped>\n",
              "    .dataframe tbody tr th:only-of-type {\n",
              "        vertical-align: middle;\n",
              "    }\n",
              "\n",
              "    .dataframe tbody tr th {\n",
              "        vertical-align: top;\n",
              "    }\n",
              "\n",
              "    .dataframe thead th {\n",
              "        text-align: right;\n",
              "    }\n",
              "</style>\n",
              "<table border=\"1\" class=\"dataframe\">\n",
              "  <thead>\n",
              "    <tr style=\"text-align: right;\">\n",
              "      <th></th>\n",
              "      <th>User</th>\n",
              "      <th>Metric</th>\n",
              "    </tr>\n",
              "  </thead>\n",
              "  <tbody>\n",
              "    <tr>\n",
              "      <th>64</th>\n",
              "      <td>cpidosmemes</td>\n",
              "      <td>1676</td>\n",
              "    </tr>\n",
              "    <tr>\n",
              "      <th>31</th>\n",
              "      <td>LaurinhaIronic</td>\n",
              "      <td>632</td>\n",
              "    </tr>\n",
              "    <tr>\n",
              "      <th>60</th>\n",
              "      <td>FeCastanhari</td>\n",
              "      <td>554</td>\n",
              "    </tr>\n",
              "    <tr>\n",
              "      <th>6</th>\n",
              "      <td>JoaquinTeixeira</td>\n",
              "      <td>472</td>\n",
              "    </tr>\n",
              "    <tr>\n",
              "      <th>192</th>\n",
              "      <td>_andrebastosof2</td>\n",
              "      <td>321</td>\n",
              "    </tr>\n",
              "  </tbody>\n",
              "</table>\n",
              "</div>"
            ],
            "text/plain": [
              "                User  Metric\n",
              "64       cpidosmemes    1676\n",
              "31    LaurinhaIronic     632\n",
              "60      FeCastanhari     554\n",
              "6    JoaquinTeixeira     472\n",
              "192  _andrebastosof2     321"
            ]
          },
          "metadata": {},
          "execution_count": 221
        }
      ]
    },
    {
      "cell_type": "code",
      "metadata": {
        "colab": {
          "base_uri": "https://localhost:8080/",
          "height": 225
        },
        "id": "RR4krHNOAMSS",
        "outputId": "4d14d033-d335-4b0e-f56d-048d2a537533"
      },
      "source": [
        "print('Argetina users')\n",
        "nw_a_users_od"
      ],
      "execution_count": null,
      "outputs": [
        {
          "output_type": "stream",
          "name": "stdout",
          "text": [
            "Argetina users\n"
          ]
        },
        {
          "output_type": "execute_result",
          "data": {
            "text/html": [
              "<div>\n",
              "<style scoped>\n",
              "    .dataframe tbody tr th:only-of-type {\n",
              "        vertical-align: middle;\n",
              "    }\n",
              "\n",
              "    .dataframe tbody tr th {\n",
              "        vertical-align: top;\n",
              "    }\n",
              "\n",
              "    .dataframe thead th {\n",
              "        text-align: right;\n",
              "    }\n",
              "</style>\n",
              "<table border=\"1\" class=\"dataframe\">\n",
              "  <thead>\n",
              "    <tr style=\"text-align: right;\">\n",
              "      <th></th>\n",
              "      <th>User</th>\n",
              "      <th>Metric</th>\n",
              "    </tr>\n",
              "  </thead>\n",
              "  <tbody>\n",
              "    <tr>\n",
              "      <th>31</th>\n",
              "      <td>LuquitaRodrigue</td>\n",
              "      <td>541</td>\n",
              "    </tr>\n",
              "    <tr>\n",
              "      <th>367</th>\n",
              "      <td>InvictosSomos</td>\n",
              "      <td>517</td>\n",
              "    </tr>\n",
              "    <tr>\n",
              "      <th>190</th>\n",
              "      <td>CONMEBOL</td>\n",
              "      <td>319</td>\n",
              "    </tr>\n",
              "    <tr>\n",
              "      <th>97</th>\n",
              "      <td>Juezcentral</td>\n",
              "      <td>309</td>\n",
              "    </tr>\n",
              "    <tr>\n",
              "      <th>102</th>\n",
              "      <td>dieschwartzman</td>\n",
              "      <td>282</td>\n",
              "    </tr>\n",
              "  </tbody>\n",
              "</table>\n",
              "</div>"
            ],
            "text/plain": [
              "                User  Metric\n",
              "31   LuquitaRodrigue     541\n",
              "367    InvictosSomos     517\n",
              "190         CONMEBOL     319\n",
              "97       Juezcentral     309\n",
              "102   dieschwartzman     282"
            ]
          },
          "metadata": {},
          "execution_count": 222
        }
      ]
    },
    {
      "cell_type": "code",
      "metadata": {
        "colab": {
          "base_uri": "https://localhost:8080/"
        },
        "id": "F9IaCx7x75CY",
        "outputId": "f0084de9-9ea9-4d25-c5f3-de36741dc9f3"
      },
      "source": [
        "argentinian_users_nw.nodes['LuquitaRodrigue']"
      ],
      "execution_count": null,
      "outputs": [
        {
          "output_type": "execute_result",
          "data": {
            "text/plain": [
              "{'is_verified_user': False,\n",
              " 'user_followers_count': 190917,\n",
              " 'user_friends_count': 1346,\n",
              " 'user_id_str': '135539946',\n",
              " 'user_location': nan,\n",
              " 'user_name': 'Lucas Rodriguez'}"
            ]
          },
          "metadata": {},
          "execution_count": 141
        }
      ]
    },
    {
      "cell_type": "markdown",
      "metadata": {
        "id": "ZBjJV9UZIBHa"
      },
      "source": [
        "#Degree centrality"
      ]
    },
    {
      "cell_type": "code",
      "metadata": {
        "id": "bHh_0q1J_H9u"
      },
      "source": [
        "nw_b_tt_dc = pd.DataFrame(nx.degree_centrality(brazilian_tt_nw).items())\n",
        "nw_a_tt_dc = pd.DataFrame(nx.degree_centrality(argentinian_tt_nw).items())\n",
        "\n",
        "nw_b_users_dc = pd.DataFrame(nx.degree_centrality(brazilian_users_nw).items())\n",
        "nw_a_users_dc = pd.DataFrame(nx.degree_centrality(argentinian_users_nw).items())\n",
        "\n",
        "nw_b_tt_dc = nw_b_tt_dc.sort_values(by=1, ascending=False).head().rename(columns={0: \"Twitee\",1: \"Metric\"})\n",
        "nw_a_tt_dc = nw_a_tt_dc.sort_values(by=1, ascending=False).head().rename(columns={0: \"Twitee\",1: \"Metric\"})\n",
        "nw_b_users_dc = nw_b_users_dc.sort_values(by=1, ascending=False).head().rename(columns={0: \"User\",1: \"Metric\"})\n",
        "nw_a_users_dc = nw_a_users_dc.sort_values(by=1, ascending=False).head().rename(columns={0: \"User\",1: \"Metric\"})"
      ],
      "execution_count": null,
      "outputs": []
    },
    {
      "cell_type": "code",
      "metadata": {
        "colab": {
          "base_uri": "https://localhost:8080/",
          "height": 225
        },
        "id": "MHZ7dq0zDd8M",
        "outputId": "3e1bf038-83ac-4ed7-fe52-f9d0f8338639"
      },
      "source": [
        "print('Brazil twiters')\n",
        "nw_b_tt_dc"
      ],
      "execution_count": null,
      "outputs": [
        {
          "output_type": "stream",
          "name": "stdout",
          "text": [
            "Brazil twiters\n"
          ]
        },
        {
          "output_type": "execute_result",
          "data": {
            "text/html": [
              "<div>\n",
              "<style scoped>\n",
              "    .dataframe tbody tr th:only-of-type {\n",
              "        vertical-align: middle;\n",
              "    }\n",
              "\n",
              "    .dataframe tbody tr th {\n",
              "        vertical-align: top;\n",
              "    }\n",
              "\n",
              "    .dataframe thead th {\n",
              "        text-align: right;\n",
              "    }\n",
              "</style>\n",
              "<table border=\"1\" class=\"dataframe\">\n",
              "  <thead>\n",
              "    <tr style=\"text-align: right;\">\n",
              "      <th></th>\n",
              "      <th>Twitee</th>\n",
              "      <th>Metric</th>\n",
              "    </tr>\n",
              "  </thead>\n",
              "  <tbody>\n",
              "    <tr>\n",
              "      <th>66</th>\n",
              "      <td>1434603399203467266</td>\n",
              "      <td>0.115586</td>\n",
              "    </tr>\n",
              "    <tr>\n",
              "      <th>61</th>\n",
              "      <td>1434600727880638464</td>\n",
              "      <td>0.038207</td>\n",
              "    </tr>\n",
              "    <tr>\n",
              "      <th>68</th>\n",
              "      <td>1434631163788906512</td>\n",
              "      <td>0.038207</td>\n",
              "    </tr>\n",
              "    <tr>\n",
              "      <th>6</th>\n",
              "      <td>1434645361549795334</td>\n",
              "      <td>0.027172</td>\n",
              "    </tr>\n",
              "    <tr>\n",
              "      <th>202</th>\n",
              "      <td>1434601502602145798</td>\n",
              "      <td>0.022138</td>\n",
              "    </tr>\n",
              "  </tbody>\n",
              "</table>\n",
              "</div>"
            ],
            "text/plain": [
              "                  Twitee    Metric\n",
              "66   1434603399203467266  0.115586\n",
              "61   1434600727880638464  0.038207\n",
              "68   1434631163788906512  0.038207\n",
              "6    1434645361549795334  0.027172\n",
              "202  1434601502602145798  0.022138"
            ]
          },
          "metadata": {},
          "execution_count": 227
        }
      ]
    },
    {
      "cell_type": "code",
      "metadata": {
        "colab": {
          "base_uri": "https://localhost:8080/",
          "height": 225
        },
        "id": "KDE19S2FDoSh",
        "outputId": "28d20739-b70c-4f66-9683-7f0efc410c9d"
      },
      "source": [
        "print('Argentina twiters')\n",
        "nw_a_tt_dc"
      ],
      "execution_count": null,
      "outputs": [
        {
          "output_type": "stream",
          "name": "stdout",
          "text": [
            "Argentina twiters\n"
          ]
        },
        {
          "output_type": "execute_result",
          "data": {
            "text/html": [
              "<div>\n",
              "<style scoped>\n",
              "    .dataframe tbody tr th:only-of-type {\n",
              "        vertical-align: middle;\n",
              "    }\n",
              "\n",
              "    .dataframe tbody tr th {\n",
              "        vertical-align: top;\n",
              "    }\n",
              "\n",
              "    .dataframe thead th {\n",
              "        text-align: right;\n",
              "    }\n",
              "</style>\n",
              "<table border=\"1\" class=\"dataframe\">\n",
              "  <thead>\n",
              "    <tr style=\"text-align: right;\">\n",
              "      <th></th>\n",
              "      <th>Twitee</th>\n",
              "      <th>Metric</th>\n",
              "    </tr>\n",
              "  </thead>\n",
              "  <tbody>\n",
              "    <tr>\n",
              "      <th>32</th>\n",
              "      <td>1434591631605370883</td>\n",
              "      <td>0.035042</td>\n",
              "    </tr>\n",
              "    <tr>\n",
              "      <th>202</th>\n",
              "      <td>1434606943772069889</td>\n",
              "      <td>0.020277</td>\n",
              "    </tr>\n",
              "    <tr>\n",
              "      <th>2291</th>\n",
              "      <td>1434346146705678341</td>\n",
              "      <td>0.018833</td>\n",
              "    </tr>\n",
              "    <tr>\n",
              "      <th>111</th>\n",
              "      <td>1434617250900762627</td>\n",
              "      <td>0.018505</td>\n",
              "    </tr>\n",
              "    <tr>\n",
              "      <th>106</th>\n",
              "      <td>1434623713895460867</td>\n",
              "      <td>0.017258</td>\n",
              "    </tr>\n",
              "  </tbody>\n",
              "</table>\n",
              "</div>"
            ],
            "text/plain": [
              "                   Twitee    Metric\n",
              "32    1434591631605370883  0.035042\n",
              "202   1434606943772069889  0.020277\n",
              "2291  1434346146705678341  0.018833\n",
              "111   1434617250900762627  0.018505\n",
              "106   1434623713895460867  0.017258"
            ]
          },
          "metadata": {},
          "execution_count": 228
        }
      ]
    },
    {
      "cell_type": "code",
      "metadata": {
        "colab": {
          "base_uri": "https://localhost:8080/",
          "height": 225
        },
        "id": "yVf7Hp3wDq8Q",
        "outputId": "8f157ad9-fef7-487a-ac3d-f31adc7c7ec8"
      },
      "source": [
        "print('Brazil users')\n",
        "nw_b_users_dc"
      ],
      "execution_count": null,
      "outputs": [
        {
          "output_type": "stream",
          "name": "stdout",
          "text": [
            "Brazil users\n"
          ]
        },
        {
          "output_type": "execute_result",
          "data": {
            "text/html": [
              "<div>\n",
              "<style scoped>\n",
              "    .dataframe tbody tr th:only-of-type {\n",
              "        vertical-align: middle;\n",
              "    }\n",
              "\n",
              "    .dataframe tbody tr th {\n",
              "        vertical-align: top;\n",
              "    }\n",
              "\n",
              "    .dataframe thead th {\n",
              "        text-align: right;\n",
              "    }\n",
              "</style>\n",
              "<table border=\"1\" class=\"dataframe\">\n",
              "  <thead>\n",
              "    <tr style=\"text-align: right;\">\n",
              "      <th></th>\n",
              "      <th>User</th>\n",
              "      <th>Metric</th>\n",
              "    </tr>\n",
              "  </thead>\n",
              "  <tbody>\n",
              "    <tr>\n",
              "      <th>64</th>\n",
              "      <td>cpidosmemes</td>\n",
              "      <td>0.143924</td>\n",
              "    </tr>\n",
              "    <tr>\n",
              "      <th>31</th>\n",
              "      <td>LaurinhaIronic</td>\n",
              "      <td>0.054272</td>\n",
              "    </tr>\n",
              "    <tr>\n",
              "      <th>60</th>\n",
              "      <td>FeCastanhari</td>\n",
              "      <td>0.047574</td>\n",
              "    </tr>\n",
              "    <tr>\n",
              "      <th>6</th>\n",
              "      <td>JoaquinTeixeira</td>\n",
              "      <td>0.040532</td>\n",
              "    </tr>\n",
              "    <tr>\n",
              "      <th>192</th>\n",
              "      <td>_andrebastosof2</td>\n",
              "      <td>0.027565</td>\n",
              "    </tr>\n",
              "  </tbody>\n",
              "</table>\n",
              "</div>"
            ],
            "text/plain": [
              "                User    Metric\n",
              "64       cpidosmemes  0.143924\n",
              "31    LaurinhaIronic  0.054272\n",
              "60      FeCastanhari  0.047574\n",
              "6    JoaquinTeixeira  0.040532\n",
              "192  _andrebastosof2  0.027565"
            ]
          },
          "metadata": {},
          "execution_count": 229
        }
      ]
    },
    {
      "cell_type": "code",
      "metadata": {
        "colab": {
          "base_uri": "https://localhost:8080/",
          "height": 225
        },
        "id": "2V_nCmJwDv_Y",
        "outputId": "7be42b37-8bb2-499a-9449-def26c88a284"
      },
      "source": [
        "print('Argetina users')\n",
        "nw_a_users_dc"
      ],
      "execution_count": null,
      "outputs": [
        {
          "output_type": "stream",
          "name": "stdout",
          "text": [
            "Argetina users\n"
          ]
        },
        {
          "output_type": "execute_result",
          "data": {
            "text/html": [
              "<div>\n",
              "<style scoped>\n",
              "    .dataframe tbody tr th:only-of-type {\n",
              "        vertical-align: middle;\n",
              "    }\n",
              "\n",
              "    .dataframe tbody tr th {\n",
              "        vertical-align: top;\n",
              "    }\n",
              "\n",
              "    .dataframe thead th {\n",
              "        text-align: right;\n",
              "    }\n",
              "</style>\n",
              "<table border=\"1\" class=\"dataframe\">\n",
              "  <thead>\n",
              "    <tr style=\"text-align: right;\">\n",
              "      <th></th>\n",
              "      <th>User</th>\n",
              "      <th>Metric</th>\n",
              "    </tr>\n",
              "  </thead>\n",
              "  <tbody>\n",
              "    <tr>\n",
              "      <th>31</th>\n",
              "      <td>LuquitaRodrigue</td>\n",
              "      <td>0.045439</td>\n",
              "    </tr>\n",
              "    <tr>\n",
              "      <th>367</th>\n",
              "      <td>InvictosSomos</td>\n",
              "      <td>0.043423</td>\n",
              "    </tr>\n",
              "    <tr>\n",
              "      <th>190</th>\n",
              "      <td>CONMEBOL</td>\n",
              "      <td>0.026793</td>\n",
              "    </tr>\n",
              "    <tr>\n",
              "      <th>97</th>\n",
              "      <td>Juezcentral</td>\n",
              "      <td>0.025953</td>\n",
              "    </tr>\n",
              "    <tr>\n",
              "      <th>102</th>\n",
              "      <td>dieschwartzman</td>\n",
              "      <td>0.023686</td>\n",
              "    </tr>\n",
              "  </tbody>\n",
              "</table>\n",
              "</div>"
            ],
            "text/plain": [
              "                User    Metric\n",
              "31   LuquitaRodrigue  0.045439\n",
              "367    InvictosSomos  0.043423\n",
              "190         CONMEBOL  0.026793\n",
              "97       Juezcentral  0.025953\n",
              "102   dieschwartzman  0.023686"
            ]
          },
          "metadata": {},
          "execution_count": 230
        }
      ]
    },
    {
      "cell_type": "markdown",
      "metadata": {
        "id": "IobpFNHcR-XO"
      },
      "source": [
        "#Betweenness Centrality"
      ]
    },
    {
      "cell_type": "code",
      "metadata": {
        "id": "Sr4PcxvHST6g"
      },
      "source": [
        "nw_b_users_bc = pd.DataFrame(nx.betweenness_centrality(brazilian_users_nw).items())\n",
        "nw_a_users_bc = pd.DataFrame(nx.betweenness_centrality(argentinian_users_nw).items())\n"
      ],
      "execution_count": null,
      "outputs": []
    },
    {
      "cell_type": "code",
      "metadata": {
        "id": "ZG_N3tV1EBSr"
      },
      "source": [
        "nw_b_users_bc = nw_b_users_bc.sort_values(by=1, ascending=False).head().rename(columns={0: \"User\",1: \"Metric\"})\n",
        "nw_a_users_bc = nw_a_users_bc.sort_values(by=1, ascending=False).head().rename(columns={0: \"User\",1: \"Metric\"})"
      ],
      "execution_count": null,
      "outputs": []
    },
    {
      "cell_type": "code",
      "metadata": {
        "colab": {
          "base_uri": "https://localhost:8080/",
          "height": 225
        },
        "id": "rT8FAcmKUW82",
        "outputId": "5205b4b7-e2cc-4958-820c-8054d9ce821b"
      },
      "source": [
        "print('Brazil users')\n",
        "nw_b_users_bc"
      ],
      "execution_count": null,
      "outputs": [
        {
          "output_type": "stream",
          "name": "stdout",
          "text": [
            "Brazil users\n"
          ]
        },
        {
          "output_type": "execute_result",
          "data": {
            "text/html": [
              "<div>\n",
              "<style scoped>\n",
              "    .dataframe tbody tr th:only-of-type {\n",
              "        vertical-align: middle;\n",
              "    }\n",
              "\n",
              "    .dataframe tbody tr th {\n",
              "        vertical-align: top;\n",
              "    }\n",
              "\n",
              "    .dataframe thead th {\n",
              "        text-align: right;\n",
              "    }\n",
              "</style>\n",
              "<table border=\"1\" class=\"dataframe\">\n",
              "  <thead>\n",
              "    <tr style=\"text-align: right;\">\n",
              "      <th></th>\n",
              "      <th>User</th>\n",
              "      <th>Metric</th>\n",
              "    </tr>\n",
              "  </thead>\n",
              "  <tbody>\n",
              "    <tr>\n",
              "      <th>10360</th>\n",
              "      <td>Cibelly_BC</td>\n",
              "      <td>3.834967e-07</td>\n",
              "    </tr>\n",
              "    <tr>\n",
              "      <th>1724</th>\n",
              "      <td>manuoliveirarj</td>\n",
              "      <td>1.696235e-07</td>\n",
              "    </tr>\n",
              "    <tr>\n",
              "      <th>1429</th>\n",
              "      <td>mvitorodrigues</td>\n",
              "      <td>1.179990e-07</td>\n",
              "    </tr>\n",
              "    <tr>\n",
              "      <th>2026</th>\n",
              "      <td>MomentsBrasil</td>\n",
              "      <td>1.106241e-07</td>\n",
              "    </tr>\n",
              "    <tr>\n",
              "      <th>1422</th>\n",
              "      <td>liz_niter</td>\n",
              "      <td>1.032491e-07</td>\n",
              "    </tr>\n",
              "  </tbody>\n",
              "</table>\n",
              "</div>"
            ],
            "text/plain": [
              "                 User        Metric\n",
              "10360      Cibelly_BC  3.834967e-07\n",
              "1724   manuoliveirarj  1.696235e-07\n",
              "1429   mvitorodrigues  1.179990e-07\n",
              "2026    MomentsBrasil  1.106241e-07\n",
              "1422        liz_niter  1.032491e-07"
            ]
          },
          "metadata": {},
          "execution_count": 235
        }
      ]
    },
    {
      "cell_type": "code",
      "metadata": {
        "colab": {
          "base_uri": "https://localhost:8080/",
          "height": 225
        },
        "id": "CZLEy6gpEbd6",
        "outputId": "74d18507-48b6-4b50-a451-5af5f5cc9193"
      },
      "source": [
        "print('Argetina users')\n",
        "nw_a_users_bc"
      ],
      "execution_count": null,
      "outputs": [
        {
          "output_type": "stream",
          "name": "stdout",
          "text": [
            "Argetina users\n"
          ]
        },
        {
          "output_type": "execute_result",
          "data": {
            "text/html": [
              "<div>\n",
              "<style scoped>\n",
              "    .dataframe tbody tr th:only-of-type {\n",
              "        vertical-align: middle;\n",
              "    }\n",
              "\n",
              "    .dataframe tbody tr th {\n",
              "        vertical-align: top;\n",
              "    }\n",
              "\n",
              "    .dataframe thead th {\n",
              "        text-align: right;\n",
              "    }\n",
              "</style>\n",
              "<table border=\"1\" class=\"dataframe\">\n",
              "  <thead>\n",
              "    <tr style=\"text-align: right;\">\n",
              "      <th></th>\n",
              "      <th>User</th>\n",
              "      <th>Metric</th>\n",
              "    </tr>\n",
              "  </thead>\n",
              "  <tbody>\n",
              "    <tr>\n",
              "      <th>182</th>\n",
              "      <td>todonoticias</td>\n",
              "      <td>1.940159e-06</td>\n",
              "    </tr>\n",
              "    <tr>\n",
              "      <th>1552</th>\n",
              "      <td>PabloCastilloM</td>\n",
              "      <td>4.303626e-07</td>\n",
              "    </tr>\n",
              "    <tr>\n",
              "      <th>175</th>\n",
              "      <td>CNNEE</td>\n",
              "      <td>1.622679e-07</td>\n",
              "    </tr>\n",
              "    <tr>\n",
              "      <th>2026</th>\n",
              "      <td>sirolopez</td>\n",
              "      <td>1.128820e-07</td>\n",
              "    </tr>\n",
              "    <tr>\n",
              "      <th>1324</th>\n",
              "      <td>HoracioRubio97</td>\n",
              "      <td>7.055125e-08</td>\n",
              "    </tr>\n",
              "  </tbody>\n",
              "</table>\n",
              "</div>"
            ],
            "text/plain": [
              "                User        Metric\n",
              "182     todonoticias  1.940159e-06\n",
              "1552  PabloCastilloM  4.303626e-07\n",
              "175            CNNEE  1.622679e-07\n",
              "2026       sirolopez  1.128820e-07\n",
              "1324  HoracioRubio97  7.055125e-08"
            ]
          },
          "metadata": {},
          "execution_count": 236
        }
      ]
    },
    {
      "cell_type": "markdown",
      "metadata": {
        "id": "nbWbSndjUq9Q"
      },
      "source": [
        "#EigenVector Centrality"
      ]
    },
    {
      "cell_type": "code",
      "metadata": {
        "id": "oL6sTiipUzWw"
      },
      "source": [
        "nw_b_tt_evc = pd.DataFrame(nx.eigenvector_centrality(brazilian_tt_nw).items())\n",
        "nw_a_tt_evc = pd.DataFrame(nx.eigenvector_centrality(argentinian_tt_nw).items())\n",
        "\n",
        "nw_b_users_evc = pd.DataFrame(nx.eigenvector_centrality(brazilian_users_nw).items())\n",
        "nw_a_users_evc = pd.DataFrame(nx.eigenvector_centrality(argentinian_users_nw).items())\n",
        "\n",
        "nw_b_tt_evc = nw_b_tt_evc.sort_values(by=1, ascending=False).head().rename(columns={0: \"Twitee\",1: \"Metric\"})\n",
        "nw_a_tt_evc = nw_a_tt_evc.sort_values(by=1, ascending=False).head().rename(columns={0: \"Twitee\",1: \"Metric\"})\n",
        "nw_b_users_evc = nw_b_users_evc.sort_values(by=1, ascending=False).head().rename(columns={0: \"User\",1: \"Metric\"})\n",
        "nw_a_users_evc = nw_a_users_evc.sort_values(by=1, ascending=False).head().rename(columns={0: \"User\",1: \"Metric\"})"
      ],
      "execution_count": null,
      "outputs": []
    },
    {
      "cell_type": "code",
      "metadata": {
        "colab": {
          "base_uri": "https://localhost:8080/",
          "height": 225
        },
        "id": "hDZVDM9wWN5e",
        "outputId": "8d8f67e3-5621-4e9e-94f7-e39216c79966"
      },
      "source": [
        "print('Brazil twiters')\n",
        "nw_b_tt_evc"
      ],
      "execution_count": null,
      "outputs": [
        {
          "output_type": "stream",
          "name": "stdout",
          "text": [
            "Brazil twiters\n"
          ]
        },
        {
          "output_type": "execute_result",
          "data": {
            "text/html": [
              "<div>\n",
              "<style scoped>\n",
              "    .dataframe tbody tr th:only-of-type {\n",
              "        vertical-align: middle;\n",
              "    }\n",
              "\n",
              "    .dataframe tbody tr th {\n",
              "        vertical-align: top;\n",
              "    }\n",
              "\n",
              "    .dataframe thead th {\n",
              "        text-align: right;\n",
              "    }\n",
              "</style>\n",
              "<table border=\"1\" class=\"dataframe\">\n",
              "  <thead>\n",
              "    <tr style=\"text-align: right;\">\n",
              "      <th></th>\n",
              "      <th>Twitee</th>\n",
              "      <th>Metric</th>\n",
              "    </tr>\n",
              "  </thead>\n",
              "  <tbody>\n",
              "    <tr>\n",
              "      <th>7250</th>\n",
              "      <td>1434649589311750145</td>\n",
              "      <td>0.008676</td>\n",
              "    </tr>\n",
              "    <tr>\n",
              "      <th>9449</th>\n",
              "      <td>1434645187767197700</td>\n",
              "      <td>0.008676</td>\n",
              "    </tr>\n",
              "    <tr>\n",
              "      <th>9438</th>\n",
              "      <td>1434645209925799943</td>\n",
              "      <td>0.008676</td>\n",
              "    </tr>\n",
              "    <tr>\n",
              "      <th>9439</th>\n",
              "      <td>1434645208512274433</td>\n",
              "      <td>0.008676</td>\n",
              "    </tr>\n",
              "    <tr>\n",
              "      <th>9440</th>\n",
              "      <td>1434645205567918082</td>\n",
              "      <td>0.008676</td>\n",
              "    </tr>\n",
              "  </tbody>\n",
              "</table>\n",
              "</div>"
            ],
            "text/plain": [
              "                   Twitee    Metric\n",
              "7250  1434649589311750145  0.008676\n",
              "9449  1434645187767197700  0.008676\n",
              "9438  1434645209925799943  0.008676\n",
              "9439  1434645208512274433  0.008676\n",
              "9440  1434645205567918082  0.008676"
            ]
          },
          "metadata": {},
          "execution_count": 239
        }
      ]
    },
    {
      "cell_type": "code",
      "metadata": {
        "colab": {
          "base_uri": "https://localhost:8080/",
          "height": 225
        },
        "id": "7Y-zaOJzFBLs",
        "outputId": "9aa44fa2-710b-473e-ee2a-028e8c30f0e3"
      },
      "source": [
        "print('Argentina twiters')\n",
        "nw_a_tt_evc"
      ],
      "execution_count": null,
      "outputs": [
        {
          "output_type": "stream",
          "name": "stdout",
          "text": [
            "Argentina twiters\n"
          ]
        },
        {
          "output_type": "execute_result",
          "data": {
            "text/html": [
              "<div>\n",
              "<style scoped>\n",
              "    .dataframe tbody tr th:only-of-type {\n",
              "        vertical-align: middle;\n",
              "    }\n",
              "\n",
              "    .dataframe tbody tr th {\n",
              "        vertical-align: top;\n",
              "    }\n",
              "\n",
              "    .dataframe thead th {\n",
              "        text-align: right;\n",
              "    }\n",
              "</style>\n",
              "<table border=\"1\" class=\"dataframe\">\n",
              "  <thead>\n",
              "    <tr style=\"text-align: right;\">\n",
              "      <th></th>\n",
              "      <th>Twitee</th>\n",
              "      <th>Metric</th>\n",
              "    </tr>\n",
              "  </thead>\n",
              "  <tbody>\n",
              "    <tr>\n",
              "      <th>15239</th>\n",
              "      <td>1434302172074848263</td>\n",
              "      <td>0.008731</td>\n",
              "    </tr>\n",
              "    <tr>\n",
              "      <th>8864</th>\n",
              "      <td>1434645886768922624</td>\n",
              "      <td>0.008731</td>\n",
              "    </tr>\n",
              "    <tr>\n",
              "      <th>8854</th>\n",
              "      <td>1434645922286211073</td>\n",
              "      <td>0.008731</td>\n",
              "    </tr>\n",
              "    <tr>\n",
              "      <th>8855</th>\n",
              "      <td>1434645920919035906</td>\n",
              "      <td>0.008731</td>\n",
              "    </tr>\n",
              "    <tr>\n",
              "      <th>13774</th>\n",
              "      <td>1434367485709520896</td>\n",
              "      <td>0.008731</td>\n",
              "    </tr>\n",
              "  </tbody>\n",
              "</table>\n",
              "</div>"
            ],
            "text/plain": [
              "                    Twitee    Metric\n",
              "15239  1434302172074848263  0.008731\n",
              "8864   1434645886768922624  0.008731\n",
              "8854   1434645922286211073  0.008731\n",
              "8855   1434645920919035906  0.008731\n",
              "13774  1434367485709520896  0.008731"
            ]
          },
          "metadata": {},
          "execution_count": 240
        }
      ]
    },
    {
      "cell_type": "code",
      "metadata": {
        "colab": {
          "base_uri": "https://localhost:8080/",
          "height": 225
        },
        "id": "Ds0EpcjwFGHS",
        "outputId": "eab9d3a7-a3fb-4bed-cd23-86823717cce1"
      },
      "source": [
        "print('Brazil users')\n",
        "nw_b_users_evc"
      ],
      "execution_count": null,
      "outputs": [
        {
          "output_type": "stream",
          "name": "stdout",
          "text": [
            "Brazil users\n"
          ]
        },
        {
          "output_type": "execute_result",
          "data": {
            "text/html": [
              "<div>\n",
              "<style scoped>\n",
              "    .dataframe tbody tr th:only-of-type {\n",
              "        vertical-align: middle;\n",
              "    }\n",
              "\n",
              "    .dataframe tbody tr th {\n",
              "        vertical-align: top;\n",
              "    }\n",
              "\n",
              "    .dataframe thead th {\n",
              "        text-align: right;\n",
              "    }\n",
              "</style>\n",
              "<table border=\"1\" class=\"dataframe\">\n",
              "  <thead>\n",
              "    <tr style=\"text-align: right;\">\n",
              "      <th></th>\n",
              "      <th>User</th>\n",
              "      <th>Metric</th>\n",
              "    </tr>\n",
              "  </thead>\n",
              "  <tbody>\n",
              "    <tr>\n",
              "      <th>9380</th>\n",
              "      <td>v4mpforbes</td>\n",
              "      <td>0.850634</td>\n",
              "    </tr>\n",
              "    <tr>\n",
              "      <th>9379</th>\n",
              "      <td>safeholinsk</td>\n",
              "      <td>0.525721</td>\n",
              "    </tr>\n",
              "    <tr>\n",
              "      <th>770</th>\n",
              "      <td>mengo_fa</td>\n",
              "      <td>0.001732</td>\n",
              "    </tr>\n",
              "    <tr>\n",
              "      <th>3422</th>\n",
              "      <td>revilhena</td>\n",
              "      <td>0.001732</td>\n",
              "    </tr>\n",
              "    <tr>\n",
              "      <th>224</th>\n",
              "      <td>rubronegro1987</td>\n",
              "      <td>0.001732</td>\n",
              "    </tr>\n",
              "  </tbody>\n",
              "</table>\n",
              "</div>"
            ],
            "text/plain": [
              "                User    Metric\n",
              "9380      v4mpforbes  0.850634\n",
              "9379     safeholinsk  0.525721\n",
              "770         mengo_fa  0.001732\n",
              "3422       revilhena  0.001732\n",
              "224   rubronegro1987  0.001732"
            ]
          },
          "metadata": {},
          "execution_count": 241
        }
      ]
    },
    {
      "cell_type": "code",
      "metadata": {
        "colab": {
          "base_uri": "https://localhost:8080/",
          "height": 225
        },
        "id": "Y0z9lBqVFHpq",
        "outputId": "215b9661-6dca-4ef1-b16a-450416e9d3ab"
      },
      "source": [
        "print('Argetina users')\n",
        "nw_a_users_evc"
      ],
      "execution_count": null,
      "outputs": [
        {
          "output_type": "stream",
          "name": "stdout",
          "text": [
            "Argetina users\n"
          ]
        },
        {
          "output_type": "execute_result",
          "data": {
            "text/html": [
              "<div>\n",
              "<style scoped>\n",
              "    .dataframe tbody tr th:only-of-type {\n",
              "        vertical-align: middle;\n",
              "    }\n",
              "\n",
              "    .dataframe tbody tr th {\n",
              "        vertical-align: top;\n",
              "    }\n",
              "\n",
              "    .dataframe thead th {\n",
              "        text-align: right;\n",
              "    }\n",
              "</style>\n",
              "<table border=\"1\" class=\"dataframe\">\n",
              "  <thead>\n",
              "    <tr style=\"text-align: right;\">\n",
              "      <th></th>\n",
              "      <th>User</th>\n",
              "      <th>Metric</th>\n",
              "    </tr>\n",
              "  </thead>\n",
              "  <tbody>\n",
              "    <tr>\n",
              "      <th>3006</th>\n",
              "      <td>jose197312</td>\n",
              "      <td>0.518924</td>\n",
              "    </tr>\n",
              "    <tr>\n",
              "      <th>2808</th>\n",
              "      <td>GettysburgiBook</td>\n",
              "      <td>0.419818</td>\n",
              "    </tr>\n",
              "    <tr>\n",
              "      <th>2807</th>\n",
              "      <td>jatirado</td>\n",
              "      <td>0.419818</td>\n",
              "    </tr>\n",
              "    <tr>\n",
              "      <th>3005</th>\n",
              "      <td>jatirado_oc</td>\n",
              "      <td>0.419818</td>\n",
              "    </tr>\n",
              "    <tr>\n",
              "      <th>6709</th>\n",
              "      <td>hildammansob</td>\n",
              "      <td>0.259462</td>\n",
              "    </tr>\n",
              "  </tbody>\n",
              "</table>\n",
              "</div>"
            ],
            "text/plain": [
              "                 User    Metric\n",
              "3006       jose197312  0.518924\n",
              "2808  GettysburgiBook  0.419818\n",
              "2807         jatirado  0.419818\n",
              "3005      jatirado_oc  0.419818\n",
              "6709     hildammansob  0.259462"
            ]
          },
          "metadata": {},
          "execution_count": 242
        }
      ]
    },
    {
      "cell_type": "markdown",
      "metadata": {
        "id": "ObALlOtDXmuK"
      },
      "source": [
        "#Density"
      ]
    },
    {
      "cell_type": "code",
      "metadata": {
        "id": "k0yP5MKpX5Cz"
      },
      "source": [
        "nw_b_tt_d = nx.density(brazilian_tt_nw)\n",
        "nw_a_tt_d = nx.density(argentinian_tt_nw)\n",
        "\n",
        "nw_b_users_d = nx.density(brazilian_users_nw)\n",
        "nw_a_users_d = nx.density(argentinian_users_nw)"
      ],
      "execution_count": null,
      "outputs": []
    },
    {
      "cell_type": "code",
      "metadata": {
        "colab": {
          "base_uri": "https://localhost:8080/"
        },
        "id": "xHPlXJ6jZQTF",
        "outputId": "2a89a7f6-2413-4ef9-efc9-e78c63f6a2f2"
      },
      "source": [
        "print(\"density Brazilian tt:\", nw_b_tt_d)\n",
        "print(\"density Argentinian tt:\", nw_a_tt_d)\n",
        "print(\"density Brazilian users:\", nw_b_users_d)\n",
        "print(\"density Argentinian users:\", nw_a_users_d)"
      ],
      "execution_count": null,
      "outputs": [
        {
          "output_type": "stream",
          "name": "stdout",
          "text": [
            "density Brazilian tt: 6.317281328992768e-05\n",
            "density Argentinian tt: 5.647117950403191e-05\n",
            "density Brazilian users: 9.585034162583682e-05\n",
            "density Argentinian users: 8.928877393223768e-05\n"
          ]
        }
      ]
    }
  ]
}